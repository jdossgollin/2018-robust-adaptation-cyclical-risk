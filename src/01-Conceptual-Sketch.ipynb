version https://git-lfs.github.com/spec/v1
oid sha256:3eb752711db289b774a982a171389c7813d78f4d946b035c092316a37a773728
size 76458
