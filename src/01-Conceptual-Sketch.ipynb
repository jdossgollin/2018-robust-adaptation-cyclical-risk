version https://git-lfs.github.com/spec/v1
oid sha256:6c68a4e7fc2a2cc42afaada09e50996f32cef4b01a04404edb9c5e000db284cf
size 81187
