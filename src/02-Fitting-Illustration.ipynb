version https://git-lfs.github.com/spec/v1
oid sha256:e2e1fc2cff75120f8f911e5544c0cb050d5000f7f7c5e992b52817b5f9821d11
size 182405
