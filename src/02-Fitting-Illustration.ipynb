version https://git-lfs.github.com/spec/v1
oid sha256:94244551a00ff451ebd2f4d7ef7a85f37c50a21baf55fbcecd93baaa497b155b
size 228432
