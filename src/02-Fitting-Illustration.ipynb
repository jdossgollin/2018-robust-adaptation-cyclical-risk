version https://git-lfs.github.com/spec/v1
oid sha256:ec2e3fed4ddf27ff841d05feb9b13b1345a6e0cfc977d8246f647ed559785c33
size 235990
