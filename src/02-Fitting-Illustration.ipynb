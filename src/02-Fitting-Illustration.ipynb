version https://git-lfs.github.com/spec/v1
oid sha256:8052db76815a36e7a219b618524d505bb207076257f99dee6183c256b63f30f6
size 202245
