version https://git-lfs.github.com/spec/v1
oid sha256:0114ae17c2ef8e7ad3c188c750c8d4e912a3b12a326fff80ea2cc8fceeebdc26
size 24964
